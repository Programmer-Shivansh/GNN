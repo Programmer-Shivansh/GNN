{
 "cells": [
  {
   "cell_type": "code",
   "execution_count": 1,
   "id": "c5d46b21",
   "metadata": {},
   "outputs": [],
   "source": [
    "import numpy as np\n",
    "import torch\n",
    "import torch.nn as nn\n",
    "import torch.optim as optim\n",
    "\n",
    "import networkx as nx\n",
    "import matplotlib.pyplot as plt\n",
    "from networkx.algorithms.shortest_paths.weighted import dijkstra_path_length"
   ]
  },
  {
   "cell_type": "code",
   "execution_count": 2,
   "id": "41c82690",
   "metadata": {},
   "outputs": [],
   "source": [
    "class GNN(nn.Module):\n",
    "    def __init__(self, input_dim, hidden_dim, output_dim):\n",
    "        super(GNN, self).__init__()\n",
    "        self.fc1 = nn.Linear(input_dim, hidden_dim)\n",
    "        self.fc2 = nn.Linear(hidden_dim, output_dim)\n",
    "    \n",
    "    def forward(self, adjacency_matrix, feature_matrix):\n",
    "        x = torch.mm(adjacency_matrix, feature_matrix)  # Aggregate neighbor features\n",
    "        x = torch.relu(self.fc1(x))\n",
    "        x = torch.mm(adjacency_matrix, x)  # Aggregate neighbor features again\n",
    "        x = self.fc2(x)\n",
    "        return x\n"
   ]
  },
  {
   "cell_type": "code",
   "execution_count": 3,
   "id": "474f7b74",
   "metadata": {},
   "outputs": [],
   "source": [
    "def optimal_pathfinding(adjacency_matrix, feature_matrix, source_node, target_node):\n",
    "    num_nodes = feature_matrix.shape[0]\n",
    "    input_dim = feature_matrix.shape[1]\n",
    "    hidden_dim = 16\n",
    "    output_dim = 1\n",
    "    model = GNN(input_dim, hidden_dim, output_dim)\n",
    "    optimizer = optim.Adam(model.parameters(), lr=0.01)\n",
    "    criterion = nn.MSELoss()\n",
    "    \n",
    "    for epoch in range(100):\n",
    "        optimizer.zero_grad()\n",
    "        output = model(adjacency_matrix, feature_matrix)\n",
    "        target = torch.zeros((num_nodes, output_dim))\n",
    "        target[target_node] = 1  # Set target node as 1, rest as 0\n",
    "        loss = criterion(output, target)\n",
    "        loss.backward()\n",
    "        optimizer.step()\n",
    "\n",
    "    # Find the path with the highest GNN output from source to target\n",
    "    current_node = source_node\n",
    "    shortest_path = [current_node]\n",
    "    max_iterations = num_nodes  # Set maximum number of iterations\n",
    "    \n",
    "    while current_node != target_node and max_iterations > 0:\n",
    "        neighbors = torch.nonzero(adjacency_matrix[current_node]).squeeze()\n",
    "        neighbor_scores = model(adjacency_matrix, feature_matrix)[neighbors]\n",
    "        if len(neighbor_scores) == 0:\n",
    "            break\n",
    "        next_node = neighbors[torch.argmax(neighbor_scores)]\n",
    "        current_node = next_node.item()\n",
    "        shortest_path.append(current_node)\n",
    "        max_iterations -= 1\n",
    "    \n",
    "    return shortest_path, model.fc1.weight.detach().numpy()"
   ]
  },
  {
   "cell_type": "code",
   "execution_count": 4,
   "id": "ece23c49",
   "metadata": {},
   "outputs": [],
   "source": [
    "def calculate_accuracy(shortest_path, target_path):\n",
    "    intersection = set(shortest_path).intersection(target_path)\n",
    "    accuracy = len(intersection) / len(target_path)\n",
    "    return accuracy"
   ]
  },
  {
   "cell_type": "code",
   "execution_count": 5,
   "id": "c9f13024",
   "metadata": {},
   "outputs": [],
   "source": [
    "def dijkstra_shortest_path(adjacency_matrix, cost_matrix, source_node, target_node):\n",
    "    graph = nx.from_numpy_array(cost_matrix, create_using=nx.DiGraph())\n",
    "    length = dijkstra_path_length(graph, source=source_node, target=target_node)\n",
    "    return length\n"
   ]
  },
  {
   "cell_type": "code",
   "execution_count": 6,
   "id": "9562f9ff",
   "metadata": {},
   "outputs": [],
   "source": [
    "\n",
    "import networkx as nx\n",
    "\n",
    "# Example adjacency matrix and feature matrix (as previously defined)\n",
    "adjacency_matrix = np.array([\n",
    "    [0, 0, 0, 1, 1, 1, 0, 0, 0, 0, 0, 0],\n",
    "    [0, 0, 0, 1, 1, 1, 0, 0, 0, 0, 0, 0],\n",
    "    [0, 0, 0, 1, 1, 1, 0, 0, 0, 0, 0, 0],\n",
    "    [0, 0, 0, 0, 0, 0, 1, 1, 1, 0, 0, 0],\n",
    "    [0, 0, 0, 0, 0, 0, 1, 1, 1, 0, 0, 0],\n",
    "    [0, 0, 0, 0, 0, 0, 1, 1, 1, 0, 0, 0],\n",
    "    [0, 0, 0, 0, 0, 0, 0, 0, 0, 1, 1, 1],\n",
    "    [0, 0, 0, 0, 0, 0, 0, 0, 0, 1, 1, 1],\n",
    "    [0, 0, 0, 0, 0, 0, 0, 0, 0, 1, 1, 1],\n",
    "    [0, 0, 0, 0, 0, 0, 0, 0, 0, 0, 0, 0],\n",
    "    [0, 0, 0, 0, 0, 0, 0, 0, 0, 0, 0, 0],\n",
    "    [0, 0, 0, 0, 0, 0, 0, 0, 0, 0, 0, 0]\n",
    "], dtype=np.float32)"
   ]
  },
  {
   "cell_type": "code",
   "execution_count": 7,
   "id": "c2d1c0d4",
   "metadata": {},
   "outputs": [],
   "source": [
    "cost_matrix = np.array([\n",
    "    [0, 0, 0, 5399.60, 4713.72, 4841.50, 0, 0, 0, 0, 0, 0],\n",
    "    [0, 0, 0, 6920.39, 5754.89, 5069.28, 0, 0, 0, 0, 0, 0],\n",
    "    [0, 0, 0, 7148.16, 7275.94, 6110.40, 0, 0, 0, 0, 0, 0],\n",
    "    [0, 0, 0, 0, 0, 0, 3959.53, 3472.11, 3561.55, 0, 0, 0],\n",
    "    [0, 0, 0, 0, 0, 0, 5069.27, 4238.42, 3750.99, 0, 0, 0],\n",
    "    [0, 0, 0, 0, 0, 0, 6356.11, 5348.16, 4517.31, 0, 0, 0],\n",
    "    [0, 0, 0, 0, 0, 0, 0, 0, 0, 12933.07, 9066.66, 7523.21],\n",
    "    [0, 0, 0, 0, 0, 0, 0, 0, 0, 300000000000000, 13311.95, 9445.56],\n",
    "    [0, 0, 0, 0, 0, 0, 0, 0, 0, 300000000000000, 300000000000000, 13690.33],\n",
    "    [0, 0, 0, 0, 0, 0, 0, 0, 0, 0, 0, 0],\n",
    "    [0, 0, 0, 0, 0, 0, 0, 0, 0, 0, 0, 0],\n",
    "    [0, 0, 0, 0, 0, 0, 0, 0, 0, 0, 0, 0]\n",
    "], dtype=np.float32)\n"
   ]
  },
  {
   "cell_type": "code",
   "execution_count": 8,
   "id": "05259250",
   "metadata": {},
   "outputs": [
    {
     "data": {
      "text/plain": [
       "16882.340087890625"
      ]
     },
     "execution_count": 8,
     "metadata": {},
     "output_type": "execute_result"
    }
   ],
   "source": [
    "source_node = 0\n",
    "target_node = 11\n",
    "dijkstra_length = dijkstra_shortest_path(adjacency_matrix, cost_matrix, source_node, target_node)\n",
    "dijkstra_length"
   ]
  },
  {
   "cell_type": "code",
   "execution_count": null,
   "id": "9f7742c1",
   "metadata": {},
   "outputs": [],
   "source": []
  }
 ],
 "metadata": {
  "kernelspec": {
   "display_name": "Python 3 (ipykernel)",
   "language": "python",
   "name": "python3"
  },
  "language_info": {
   "codemirror_mode": {
    "name": "ipython",
    "version": 3
   },
   "file_extension": ".py",
   "mimetype": "text/x-python",
   "name": "python",
   "nbconvert_exporter": "python",
   "pygments_lexer": "ipython3",
   "version": "3.11.4"
  }
 },
 "nbformat": 4,
 "nbformat_minor": 5
}
